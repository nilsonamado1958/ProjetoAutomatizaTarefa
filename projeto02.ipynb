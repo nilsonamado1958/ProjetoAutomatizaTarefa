{
 "cells": [
  {
   "cell_type": "markdown",
   "metadata": {},
   "source": [
    "# Projeto 02\n",
    "\n",
    "Passo a passo:\n",
    "- Buscar informacoes de acoes da bolsa, automaticamente\n",
    "- Desenvolver analiser apurando cotacao maxima, media e minima dentro de um periodo\n",
    "- Enviar um e-mail automaticamente com os resulados para o solicitante\n"
   ]
  },
  {
   "cell_type": "code",
   "execution_count": 2,
   "metadata": {},
   "outputs": [],
   "source": [
    "import yfinance"
   ]
  },
  {
   "cell_type": "code",
   "execution_count": 3,
   "metadata": {},
   "outputs": [
    {
     "data": {
      "text/html": [
       "<div>\n",
       "<style scoped>\n",
       "    .dataframe tbody tr th:only-of-type {\n",
       "        vertical-align: middle;\n",
       "    }\n",
       "\n",
       "    .dataframe tbody tr th {\n",
       "        vertical-align: top;\n",
       "    }\n",
       "\n",
       "    .dataframe thead th {\n",
       "        text-align: right;\n",
       "    }\n",
       "</style>\n",
       "<table border=\"1\" class=\"dataframe\">\n",
       "  <thead>\n",
       "    <tr style=\"text-align: right;\">\n",
       "      <th></th>\n",
       "      <th>Open</th>\n",
       "      <th>High</th>\n",
       "      <th>Low</th>\n",
       "      <th>Close</th>\n",
       "      <th>Volume</th>\n",
       "      <th>Dividends</th>\n",
       "      <th>Stock Splits</th>\n",
       "    </tr>\n",
       "    <tr>\n",
       "      <th>Date</th>\n",
       "      <th></th>\n",
       "      <th></th>\n",
       "      <th></th>\n",
       "      <th></th>\n",
       "      <th></th>\n",
       "      <th></th>\n",
       "      <th></th>\n",
       "    </tr>\n",
       "  </thead>\n",
       "  <tbody>\n",
       "    <tr>\n",
       "      <th>2023-01-02 00:00:00-03:00</th>\n",
       "      <td>16.948898</td>\n",
       "      <td>17.143298</td>\n",
       "      <td>16.416094</td>\n",
       "      <td>16.502495</td>\n",
       "      <td>78424700</td>\n",
       "      <td>0.0</td>\n",
       "      <td>0.0</td>\n",
       "    </tr>\n",
       "    <tr>\n",
       "      <th>2023-01-03 00:00:00-03:00</th>\n",
       "      <td>16.516895</td>\n",
       "      <td>16.632096</td>\n",
       "      <td>15.933691</td>\n",
       "      <td>16.084892</td>\n",
       "      <td>96750300</td>\n",
       "      <td>0.0</td>\n",
       "      <td>0.0</td>\n",
       "    </tr>\n",
       "    <tr>\n",
       "      <th>2023-01-04 00:00:00-03:00</th>\n",
       "      <td>15.811291</td>\n",
       "      <td>16.984899</td>\n",
       "      <td>15.717691</td>\n",
       "      <td>16.596096</td>\n",
       "      <td>129504000</td>\n",
       "      <td>0.0</td>\n",
       "      <td>0.0</td>\n",
       "    </tr>\n",
       "    <tr>\n",
       "      <th>2023-01-05 00:00:00-03:00</th>\n",
       "      <td>16.804895</td>\n",
       "      <td>17.308899</td>\n",
       "      <td>16.668094</td>\n",
       "      <td>17.193697</td>\n",
       "      <td>73886000</td>\n",
       "      <td>0.0</td>\n",
       "      <td>0.0</td>\n",
       "    </tr>\n",
       "    <tr>\n",
       "      <th>2023-01-06 00:00:00-03:00</th>\n",
       "      <td>17.236901</td>\n",
       "      <td>17.510502</td>\n",
       "      <td>16.956098</td>\n",
       "      <td>17.092899</td>\n",
       "      <td>51851500</td>\n",
       "      <td>0.0</td>\n",
       "      <td>0.0</td>\n",
       "    </tr>\n",
       "    <tr>\n",
       "      <th>...</th>\n",
       "      <td>...</td>\n",
       "      <td>...</td>\n",
       "      <td>...</td>\n",
       "      <td>...</td>\n",
       "      <td>...</td>\n",
       "      <td>...</td>\n",
       "      <td>...</td>\n",
       "    </tr>\n",
       "    <tr>\n",
       "      <th>2023-12-21 00:00:00-03:00</th>\n",
       "      <td>34.186370</td>\n",
       "      <td>34.195694</td>\n",
       "      <td>33.627009</td>\n",
       "      <td>33.925335</td>\n",
       "      <td>30511900</td>\n",
       "      <td>0.0</td>\n",
       "      <td>0.0</td>\n",
       "    </tr>\n",
       "    <tr>\n",
       "      <th>2023-12-22 00:00:00-03:00</th>\n",
       "      <td>34.027882</td>\n",
       "      <td>34.307563</td>\n",
       "      <td>33.906686</td>\n",
       "      <td>34.251629</td>\n",
       "      <td>31234700</td>\n",
       "      <td>0.0</td>\n",
       "      <td>0.0</td>\n",
       "    </tr>\n",
       "    <tr>\n",
       "      <th>2023-12-26 00:00:00-03:00</th>\n",
       "      <td>34.363498</td>\n",
       "      <td>34.838954</td>\n",
       "      <td>34.335531</td>\n",
       "      <td>34.801666</td>\n",
       "      <td>23466800</td>\n",
       "      <td>0.0</td>\n",
       "      <td>0.0</td>\n",
       "    </tr>\n",
       "    <tr>\n",
       "      <th>2023-12-27 00:00:00-03:00</th>\n",
       "      <td>34.792344</td>\n",
       "      <td>34.894894</td>\n",
       "      <td>34.615214</td>\n",
       "      <td>34.829636</td>\n",
       "      <td>19588500</td>\n",
       "      <td>0.0</td>\n",
       "      <td>0.0</td>\n",
       "    </tr>\n",
       "    <tr>\n",
       "      <th>2023-12-28 00:00:00-03:00</th>\n",
       "      <td>34.708437</td>\n",
       "      <td>34.829633</td>\n",
       "      <td>34.531307</td>\n",
       "      <td>34.717762</td>\n",
       "      <td>21421900</td>\n",
       "      <td>0.0</td>\n",
       "      <td>0.0</td>\n",
       "    </tr>\n",
       "  </tbody>\n",
       "</table>\n",
       "<p>248 rows × 7 columns</p>\n",
       "</div>"
      ],
      "text/plain": [
       "                                Open       High        Low      Close  \\\n",
       "Date                                                                    \n",
       "2023-01-02 00:00:00-03:00  16.948898  17.143298  16.416094  16.502495   \n",
       "2023-01-03 00:00:00-03:00  16.516895  16.632096  15.933691  16.084892   \n",
       "2023-01-04 00:00:00-03:00  15.811291  16.984899  15.717691  16.596096   \n",
       "2023-01-05 00:00:00-03:00  16.804895  17.308899  16.668094  17.193697   \n",
       "2023-01-06 00:00:00-03:00  17.236901  17.510502  16.956098  17.092899   \n",
       "...                              ...        ...        ...        ...   \n",
       "2023-12-21 00:00:00-03:00  34.186370  34.195694  33.627009  33.925335   \n",
       "2023-12-22 00:00:00-03:00  34.027882  34.307563  33.906686  34.251629   \n",
       "2023-12-26 00:00:00-03:00  34.363498  34.838954  34.335531  34.801666   \n",
       "2023-12-27 00:00:00-03:00  34.792344  34.894894  34.615214  34.829636   \n",
       "2023-12-28 00:00:00-03:00  34.708437  34.829633  34.531307  34.717762   \n",
       "\n",
       "                              Volume  Dividends  Stock Splits  \n",
       "Date                                                           \n",
       "2023-01-02 00:00:00-03:00   78424700        0.0           0.0  \n",
       "2023-01-03 00:00:00-03:00   96750300        0.0           0.0  \n",
       "2023-01-04 00:00:00-03:00  129504000        0.0           0.0  \n",
       "2023-01-05 00:00:00-03:00   73886000        0.0           0.0  \n",
       "2023-01-06 00:00:00-03:00   51851500        0.0           0.0  \n",
       "...                              ...        ...           ...  \n",
       "2023-12-21 00:00:00-03:00   30511900        0.0           0.0  \n",
       "2023-12-22 00:00:00-03:00   31234700        0.0           0.0  \n",
       "2023-12-26 00:00:00-03:00   23466800        0.0           0.0  \n",
       "2023-12-27 00:00:00-03:00   19588500        0.0           0.0  \n",
       "2023-12-28 00:00:00-03:00   21421900        0.0           0.0  \n",
       "\n",
       "[248 rows x 7 columns]"
      ]
     },
     "execution_count": 3,
     "metadata": {},
     "output_type": "execute_result"
    }
   ],
   "source": [
    "ticker = input(\"Digite o codigo da acao desejada: \")\n",
    "dados_historicos = yfinance.Ticker(ticker).history(start=\"2023-01-01\", end=\"2023-12-31\")\n",
    "dados_historicos"
   ]
  },
  {
   "cell_type": "code",
   "execution_count": 4,
   "metadata": {},
   "outputs": [
    {
     "data": {
      "text/plain": [
       "Date\n",
       "2023-01-02 00:00:00-03:00    16.502495\n",
       "2023-01-03 00:00:00-03:00    16.084892\n",
       "2023-01-04 00:00:00-03:00    16.596096\n",
       "2023-01-05 00:00:00-03:00    17.193697\n",
       "2023-01-06 00:00:00-03:00    17.092899\n",
       "                               ...    \n",
       "2023-12-21 00:00:00-03:00    33.925335\n",
       "2023-12-22 00:00:00-03:00    34.251629\n",
       "2023-12-26 00:00:00-03:00    34.801666\n",
       "2023-12-27 00:00:00-03:00    34.829636\n",
       "2023-12-28 00:00:00-03:00    34.717762\n",
       "Name: Close, Length: 248, dtype: float64"
      ]
     },
     "execution_count": 4,
     "metadata": {},
     "output_type": "execute_result"
    }
   ],
   "source": [
    "fechamento = dados_historicos.Close\n",
    "fechamento"
   ]
  },
  {
   "cell_type": "code",
   "execution_count": 5,
   "metadata": {},
   "outputs": [
    {
     "data": {
      "text/plain": [
       "<Axes: xlabel='Date'>"
      ]
     },
     "execution_count": 5,
     "metadata": {},
     "output_type": "execute_result"
    },
    {
     "data": {
      "image/png": "[encoded data removed]",
      "text/plain": [
       "<Figure size 640x480 with 1 Axes>"
      ]
     },
     "metadata": {},
     "output_type": "display_data"
    }
   ],
   "source": [
    "fechamento.plot()"
   ]
  },
  {
   "cell_type": "markdown",
   "metadata": {},
   "source": [
    "## Criando as analise de cotacao minima, maxima e media\n"
   ]
  },
  {
   "cell_type": "code",
   "execution_count": 6,
   "metadata": {},
   "outputs": [
    {
     "name": "stdout",
     "output_type": "stream",
     "text": [
      "16.08\n",
      "34.83\n",
      "24.86\n"
     ]
    }
   ],
   "source": [
    "fechamento_minimo = round(fechamento.min(), 2)\n",
    "fechamento_maximo = round(fechamento.max(), 2)\n",
    "fechamento_medio = round(fechamento.mean(), 2)\n",
    "\n",
    "print(fechamento_minimo)\n",
    "print(fechamento_maximo)\n",
    "print(fechamento_medio)\n"
   ]
  },
  {
   "cell_type": "markdown",
   "metadata": {},
   "source": [
    "## Enviar um email automaticamente para o solicitante\n",
    "- abrir o navegador e ir para gmail\n",
    "- clicar no botao escrever\n",
    "- digitar o email do destinatario e teclar TAB\n",
    "- digitar o assunto e teclar TAB\n",
    "- digitar a mensagem\n",
    "- clicar no botao enviar\n",
    "\n",
    "Instalar e importar as bibliotecas: pyautogui, pyperclip e webbrowser"
   ]
  },
  {
   "cell_type": "code",
   "execution_count": 10,
   "metadata": {},
   "outputs": [],
   "source": [
    "import pyautogui\n",
    "import pyperclip\n",
    "import webbrowser\n",
    "import time\n",
    "\n",
    "destinatario = \"adm.nas@hotmail.com\"\n",
    "assunto = \"Analise de acoes no mercado financeiro\"\n",
    "\n",
    "mensagem = f\"\"\"\n",
    "Prezado gestor financeiro,\n",
    "\n",
    "Atendo sua solicitacao, seguem os resultados das analises sobre a acao {ticker}:\n",
    "\n",
    "Valor maxima: R${fechamento_maximo}\n",
    "Valor minima: R${fechamento_minimo}\n",
    "Valor medio: R${fechamento_medio}\n",
    "\n",
    "Para eventuais esclarecimentos estou a disposicao.\n",
    "\n",
    "Atenciosamente,\n",
    "\n",
    "Equipe sistemas analise de dados\n",
    "\n",
    "\"\"\"\n"
   ]
  },
  {
   "cell_type": "code",
   "execution_count": 19,
   "metadata": {},
   "outputs": [
    {
     "data": {
      "text/plain": [
       "<function pyautogui.click(x=None, y=None, clicks=1, interval=0.0, button='primary', duration=0.0, tween=<function linear at 0x0000025955639940>, logScreenshot=None, _pause=True)>"
      ]
     },
     "execution_count": 19,
     "metadata": {},
     "output_type": "execute_result"
    }
   ],
   "source": [
    "# abrir o navegador e ir para o gmail\n",
    "webbrowser.open(\"www.gmail.com\")\n",
    "time.sleep(3)\n",
    "\n",
    "# configurando uma pausa de 5 segundos\n",
    "pyautogui.PAUSE = 3\n",
    "\n",
    "# para clicar no botao escrever\n",
    "pyautogui.click(x=72, y=201)\n",
    "\n",
    "# digitar o email do destinatario e teclar TAB\n",
    "pyperclip.copy(destinatario)\n",
    "pyautogui.hotkey(\"cltr\", \"v\")\n",
    "pyautogui.hotkey(\"tab\")\n",
    "\n",
    "# digitar o assunto\n",
    "pyperclip.copy(assunto)\n",
    "pyautogui.hotkey(\"cltr\", \"v\")\n",
    "pyautogui.hotkey(\"tab\")\n",
    "\n",
    "# digitar a mensagem\n",
    "pyperclip.copy(mensagem)\n",
    "pyautogui.hotkey(\"cltr\", \"v\")\n",
    "\n",
    "# clicar no botao enviar\n",
    "pyautogui.click(x=890, y=685)\n",
    "\n",
    "# fechar o gmail\n",
    "pyautogui.click(\"cltr\", \"f4\")\n",
    "\n",
    "print(\"Email enviado com sucesso\")\n",
    "\n"
   ]
  },
  {
   "cell_type": "code",
   "execution_count": 20,
   "metadata": {},
   "outputs": [
    {
     "data": {
      "text/plain": [
       "Point(x=890, y=685)"
      ]
     },
     "execution_count": 20,
     "metadata": {},
     "output_type": "execute_result"
    }
   ],
   "source": [
    "time.sleep(7)\n",
    "pyautogui.position()"
   ]
  }
 ],
 "metadata": {
  "kernelspec": {
   "display_name": "Python 3",
   "language": "python",
   "name": "python3"
  },
  "language_info": {
   "codemirror_mode": {
    "name": "ipython",
    "version": 3
   },
   "file_extension": ".py",
   "mimetype": "text/x-python",
   "name": "python",
   "nbconvert_exporter": "python",
   "pygments_lexer": "ipython3",
   "version": "3.12.4"
  }
 },
 "nbformat": 4,
 "nbformat_minor": 2
}
